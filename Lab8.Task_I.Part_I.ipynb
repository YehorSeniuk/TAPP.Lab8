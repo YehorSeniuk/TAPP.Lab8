{
 "cells": [
  {
   "cell_type": "markdown",
   "id": "ff829659-6591-4d7d-8e9c-9399d4b55c4c",
   "metadata": {},
   "source": [
    "# Task I. Presets"
   ]
  },
  {
   "cell_type": "code",
   "execution_count": 4,
   "id": "491ce727-28a6-476c-9ce5-e6d006b3f676",
   "metadata": {},
   "outputs": [],
   "source": [
    "import spacy\n",
    "from spacy.matcher import Matcher\n",
    "import json\n",
    "\n",
    "with open(\"taxiandcars.json\") as f:\n",
    "    data = json.load(f)\n",
    "\n",
    "utterances = [turn['utterance'] for dialogue in data for turn in dialogue['turns']]\n",
    "\n",
    "nlp = spacy.load(\"en_core_web_sm\")\n",
    "\n",
    "text = '.'.join(utterances)"
   ]
  },
  {
   "cell_type": "markdown",
   "id": "edb629c0-81af-470d-b5c1-9fba81ba6a35",
   "metadata": {},
   "source": [
    "# Task I. Part I"
   ]
  },
  {
   "cell_type": "markdown",
   "id": "264a885b-1e19-425e-aed3-2e307de1e0c6",
   "metadata": {},
   "source": [
    "## Problem statement"
   ]
  },
  {
   "cell_type": "markdown",
   "id": "73c76f9c-30db-4612-bd9c-a3fbbca905e7",
   "metadata": {},
   "source": [
    "Використати клас Matcher для виділення назв вулиць."
   ]
  },
  {
   "cell_type": "markdown",
   "id": "58613f08-2723-4134-a10f-5565b056bd56",
   "metadata": {},
   "source": [
    "## Solution"
   ]
  },
  {
   "cell_type": "code",
   "execution_count": 5,
   "id": "98d5821d-f8e8-4707-a996-de93ca5120f5",
   "metadata": {},
   "outputs": [
    {
     "name": "stdout",
     "output_type": "stream",
     "text": [
      "Street: Waverley Street\n",
      "Street: Waverley Street\n",
      "Street: Loma Boulevard\n",
      "Street: Contra Loma Boulevard\n",
      "Street: Quarry Road\n",
      "Street: Quarry Road\n",
      "Street: Cowper Street\n",
      "Street: Cowper Street\n",
      "Street: Chabot Road\n",
      "Street: Lake Chabot Road\n",
      "Street: Chabot Road\n",
      "Street: Lake Chabot Road\n",
      "Street: Locust Street\n",
      "Street: Locust Street\n",
      "Street: Monument Boulevard\n",
      "Street: Monument Boulevard\n",
      "Street: Polk Street\n",
      "Street: California Street\n",
      "Street: California Street\n",
      "Street: Moffett Boulevard\n",
      "Street: Moffett Boulevard\n",
      "Street: Kitson Road\n",
      "Street: Kitson road\n",
      "Street: King Street\n",
      "Street: King Street\n",
      "Street: King Street\n",
      "Street: King Street\n"
     ]
    }
   ],
   "source": [
    "matcher = Matcher(nlp.vocab)\n",
    "\n",
    "pattern = [{\"is_title\": True, \"OP\": \"+\"}, {\"LOWER\": {\"IN\": [\"street\", \"avenue\", \"boulevard\", \"drive\", \"road\"]}}]\n",
    "matcher.add(\"Street\", [pattern])\n",
    "\n",
    "doc = nlp(text)\n",
    "\n",
    "matches = matcher(doc)\n",
    "\n",
    "for match_id, start, end in matches:\n",
    "    span = doc[start:end]\n",
    "    print(\"Street:\", span.text)"
   ]
  },
  {
   "cell_type": "code",
   "execution_count": null,
   "id": "fe1e4910-6ecf-46e6-987c-ac1e0eb5ffe9",
   "metadata": {},
   "outputs": [],
   "source": []
  }
 ],
 "metadata": {
  "kernelspec": {
   "display_name": "Python 3 (ipykernel)",
   "language": "python",
   "name": "python3"
  },
  "language_info": {
   "codemirror_mode": {
    "name": "ipython",
    "version": 3
   },
   "file_extension": ".py",
   "mimetype": "text/x-python",
   "name": "python",
   "nbconvert_exporter": "python",
   "pygments_lexer": "ipython3",
   "version": "3.10.12"
  }
 },
 "nbformat": 4,
 "nbformat_minor": 5
}
